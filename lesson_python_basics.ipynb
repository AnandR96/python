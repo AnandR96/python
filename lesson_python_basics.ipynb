{
  "nbformat": 4,
  "nbformat_minor": 0,
  "metadata": {
    "colab": {
      "name": "Untitled2.ipynb",
      "provenance": [],
      "collapsed_sections": []
    },
    "kernelspec": {
      "name": "python3",
      "display_name": "Python 3"
    },
    "language_info": {
      "name": "python"
    }
  },
  "cells": [
    {
      "cell_type": "markdown",
      "source": [
        "Write a code to get the input in the given format and print the output in the given format\n",
        "\n",
        "Input Description:\n",
        "First-line indicates two integers separated by space. Second-line indicates two integers separated by space. Third-line indicates two integers separated by space.\n",
        "\n",
        "Output Description:\n",
        "Print the input in the same format."
      ],
      "metadata": {
        "id": "BqIKx42EOZQn"
      }
    },
    {
      "cell_type": "code",
      "source": [
        "A,N= [int(i) for i in input().split()]\n",
        "B,O= [int(i) for i in input().split()]\n",
        "C,P= [int(i) for i in input().split()]\n",
        "\n",
        "print(A,N)\n",
        "print(B,O)\n",
        "print(C,P)"
      ],
      "metadata": {
        "id": "7mXDAffuMDtB",
        "colab": {
          "base_uri": "https://localhost:8080/"
        },
        "outputId": "418ca1f8-b551-4144-fb6e-d8885ec5a899"
      },
      "execution_count": null,
      "outputs": [
        {
          "output_type": "stream",
          "name": "stdout",
          "text": [
            "1 2\n",
            "2 4\n",
            "3 6\n",
            "1 2\n",
            "2 4\n",
            "3 6\n"
          ]
        }
      ]
    },
    {
      "cell_type": "markdown",
      "source": [
        "Write a code to get the input in the given format and print the output in the given format\n",
        "\n",
        "Input Description:\n",
        "Three integers are given in line by line.\n",
        "\n",
        "Output Description:\n",
        "Print the integers in a single line separate by space."
      ],
      "metadata": {
        "id": "BTjUSV7GP0l3"
      }
    },
    {
      "cell_type": "code",
      "source": [
        "a = int(input())\n",
        "b = int(input())\n",
        "c = int(input())\n",
        "\n",
        "print(a, b, c)"
      ],
      "metadata": {
        "colab": {
          "base_uri": "https://localhost:8080/"
        },
        "id": "COv18WfBOsvM",
        "outputId": "eb4f86a1-5d6b-4616-b773-3e41625b4b4e"
      },
      "execution_count": null,
      "outputs": [
        {
          "output_type": "stream",
          "name": "stdout",
          "text": [
            "1\n",
            "2\n",
            "3\n",
            "1 2 3\n"
          ]
        }
      ]
    },
    {
      "cell_type": "markdown",
      "source": [
        "Write a code to get the input in the given format and print the output in the given format\n",
        "\n",
        "Input Description:\n",
        "First-line indicates two integers separated by space. Second-line indicates three integers separated by space. Third-line indicates three integers separated by space\n",
        "\n",
        "Output Description:\n",
        "Print the input in the same format."
      ],
      "metadata": {
        "id": "odBuppHPQflh"
      }
    },
    {
      "cell_type": "code",
      "source": [
        "A,N= [int(i) for i in input().split()]\n",
        "B,O,X= [int(i) for i in input().split()]\n",
        "C,P,Y= [int(i) for i in input().split()]\n",
        "\n",
        "print(A,N)\n",
        "print(B,O,X)\n",
        "print(C,P,Y)"
      ],
      "metadata": {
        "colab": {
          "base_uri": "https://localhost:8080/"
        },
        "id": "-qDxNOvJPkdt",
        "outputId": "53d724f4-eb6d-4476-c5e6-d97e4f840fbc"
      },
      "execution_count": null,
      "outputs": [
        {
          "output_type": "stream",
          "name": "stdout",
          "text": [
            "1 2\n",
            "2 4 6\n",
            "2 5 6\n",
            "1 2\n",
            "2 4 6\n",
            "2 5 6\n"
          ]
        }
      ]
    },
    {
      "cell_type": "markdown",
      "source": [
        "Write a code to get the input in the given format and print the output in the given format\n",
        "\n",
        "Input Description:\n",
        "A single line contains a string.\n",
        "\n",
        "Output Description:\n",
        "Print the characters in a string separated by space."
      ],
      "metadata": {
        "id": "bHcdAq2FTGkZ"
      }
    },
    {
      "cell_type": "code",
      "source": [
        "A = input()\n",
        "print(\" \".join(A))"
      ],
      "metadata": {
        "colab": {
          "base_uri": "https://localhost:8080/"
        },
        "id": "wfEgs4FaQO5a",
        "outputId": "7b8e9a4f-fe37-4957-e19d-0ef0ff5dee19"
      },
      "execution_count": null,
      "outputs": [
        {
          "output_type": "stream",
          "name": "stdout",
          "text": [
            "anan\n",
            "a n a n\n"
          ]
        }
      ]
    },
    {
      "cell_type": "markdown",
      "source": [
        "Write a code to get the input in the given format and print the output in the given format.\n",
        "\n",
        "Input Description:\n",
        "A single line contains three float values separated by space.\n",
        "\n",
        "Output Description:\n",
        "Print the float value separated by line."
      ],
      "metadata": {
        "id": "Xqk59oV4T-5h"
      }
    },
    {
      "cell_type": "code",
      "source": [
        "A,N,X= [float(i) for i in input().split()]\n",
        "print(A)\n",
        "print(N)\n",
        "print(X)"
      ],
      "metadata": {
        "colab": {
          "base_uri": "https://localhost:8080/"
        },
        "id": "MLwKw5FyQ2w1",
        "outputId": "9c43c47c-cf60-4169-8120-450b536012ec"
      },
      "execution_count": null,
      "outputs": [
        {
          "output_type": "stream",
          "name": "stdout",
          "text": [
            "1.0 2.0 3.0\n",
            "1.0\n",
            "2.0\n",
            "3.0\n"
          ]
        }
      ]
    },
    {
      "cell_type": "markdown",
      "source": [
        "Write a code to get the input in the given format and print the output in the given format.\n",
        "\n",
        "Input Description:\n",
        "A single line contains a string.\n",
        "\n",
        "Output Description:\n",
        "Print the characters in a string separated by line."
      ],
      "metadata": {
        "id": "CWwAPPpllWQ5"
      }
    },
    {
      "cell_type": "code",
      "source": [
        "A=input()\n",
        "l=list(A)\n",
        "for i in l:\n",
        "  print(i)"
      ],
      "metadata": {
        "id": "paAY5eb-Ttqr",
        "colab": {
          "base_uri": "https://localhost:8080/"
        },
        "outputId": "42d7bab4-ea5c-49b5-eff9-455a0256a1c8"
      },
      "execution_count": null,
      "outputs": [
        {
          "output_type": "stream",
          "name": "stdout",
          "text": [
            "geek\n",
            "g\n",
            "e\n",
            "e\n",
            "k\n"
          ]
        }
      ]
    },
    {
      "cell_type": "markdown",
      "source": [
        "Write a code to get the input in the given format and print the output in the given format.\n",
        "\n",
        "Input Description:\n",
        "A single line contains a string.\n",
        "\n",
        "Output Description:\n",
        "Print the characters in a string separated by comma."
      ],
      "metadata": {
        "id": "9iB7sUXnnjNW"
      }
    },
    {
      "cell_type": "code",
      "source": [
        "A=input()\n",
        "\n",
        "print(\",\".join(A))"
      ],
      "metadata": {
        "colab": {
          "base_uri": "https://localhost:8080/"
        },
        "id": "ZxrxFLq2jaHv",
        "outputId": "b62700ed-05ca-43be-a330-06c371f88bf8"
      },
      "execution_count": null,
      "outputs": [
        {
          "output_type": "stream",
          "name": "stdout",
          "text": [
            "geeek\n",
            "g,e,e,e,k\n"
          ]
        }
      ]
    },
    {
      "cell_type": "code",
      "source": [
        "A,N= [int(i) for i in input().split()]\n",
        "B = [int(i) for i in input().split()]\n",
        "\n",
        "print(A,N)\n",
        "print(B)"
      ],
      "metadata": {
        "colab": {
          "base_uri": "https://localhost:8080/"
        },
        "id": "EHyJ0BodlgK4",
        "outputId": "de5b2368-11f6-435a-f66b-36fb9a8299f7"
      },
      "execution_count": null,
      "outputs": [
        {
          "output_type": "stream",
          "name": "stdout",
          "text": [
            "2 5\n",
            "7\n",
            "2 5\n",
            "[7]\n"
          ]
        }
      ]
    },
    {
      "cell_type": "markdown",
      "source": [
        "You will be provided with a number. Print the number of days in the month corresponding to that number.\n",
        "\n",
        "Note: In case the input is February, print 28 days. If the Input is not in valid range print \"Error\".\n",
        "\n",
        "Input Description:\n",
        "The input is in the form of a number.\n",
        "\n",
        "Output Description:\n",
        "Find the days in the month corresponding to the input number. Print Error if the input is not in a valid range."
      ],
      "metadata": {
        "id": "jxWxAyV63kPO"
      }
    },
    {
      "cell_type": "code",
      "source": [
        "m = int(input())\n",
        "if (m == 1 or m==3 or m==5 or m==7 or m==8 or m==10 or m==12 ):\n",
        "  print(\"31\")\n",
        "elif(m==2):\n",
        "  print(\"28\")\n",
        "elif(m==4 or m==6 or m==9 or m==11):\n",
        "  print(\"30\")\n",
        "else:\n",
        "  print(\"Error\")"
      ],
      "metadata": {
        "id": "9JBsCXH3oWiJ",
        "colab": {
          "base_uri": "https://localhost:8080/"
        },
        "outputId": "ea3a7e80-819e-4db3-d1e8-f21b306dd274"
      },
      "execution_count": null,
      "outputs": [
        {
          "output_type": "stream",
          "name": "stdout",
          "text": [
            "25\n",
            "Error\n"
          ]
        }
      ]
    },
    {
      "cell_type": "markdown",
      "source": [
        "You are given a number A in Kilometers. Convert this into B: Meters and C: Centi-Metres.\n",
        "\n",
        "Input Description:\n",
        "A number \"A\" representing some distance in kilometer is provided to you as the input.\n",
        "\n",
        "Output Description:\n",
        "Convert and print this value in meters and centimeters."
      ],
      "metadata": {
        "id": "j02OcySw4yR7"
      }
    },
    {
      "cell_type": "code",
      "source": [
        "A = int(input())\n",
        "print(A*1000)\n",
        "print(A*100000)"
      ],
      "metadata": {
        "colab": {
          "base_uri": "https://localhost:8080/"
        },
        "id": "LPsfq40t1yQV",
        "outputId": "41d60e60-721b-4069-c3c3-b972db39f9b5"
      },
      "execution_count": null,
      "outputs": [
        {
          "output_type": "stream",
          "name": "stdout",
          "text": [
            "5\n",
            "5000\n",
            "500000\n"
          ]
        }
      ]
    },
    {
      "cell_type": "markdown",
      "source": [
        "You are given with Principle amount($), Interest Rate(%) and Time (years) in that order. Find Simple Interest.\n",
        "\n",
        "Print the output up to two decimal places (Round-off if necessary).\n",
        "\n",
        "(S.I. = P*T*R/100)\n",
        "\n",
        "Input Description:\n",
        "Three values are given to you as the input. these values correspond to Principle amount, Interest Rate and Time in that particular order.\n",
        "\n",
        "Output Description:\n",
        "Find the Simple interest and print it up to two decimal places. Round off if required."
      ],
      "metadata": {
        "id": "vr93WxYl6L4X"
      }
    },
    {
      "cell_type": "code",
      "source": [
        "A,N,X= [float(i) for i in input().split()]\n",
        "SI=float(A*X*N/100)\n",
        "print(SI)"
      ],
      "metadata": {
        "colab": {
          "base_uri": "https://localhost:8080/"
        },
        "id": "WJJdMujt4RDn",
        "outputId": "61768fbf-4755-4a60-84a0-48ef46d4d666"
      },
      "execution_count": null,
      "outputs": [
        {
          "output_type": "stream",
          "name": "stdout",
          "text": [
            "2 5 100\n",
            "10.0\n"
          ]
        }
      ]
    },
    {
      "cell_type": "markdown",
      "source": [
        "You are given A = Length of a rectangle & B = breadth of a rectangle. Find its area “C”.\n",
        "\n",
        "(A and B are natural numbers)\n",
        "\n",
        "Input Description:\n",
        "The inputs are two natural numbers representing the length and the breadth of a rectangle.\n",
        "\n",
        "Output Description:\n",
        "Find the area of the rectangle formed by the provided input. Round off the answer to the first decimal place if required."
      ],
      "metadata": {
        "id": "w0Bge2aV6tfW"
      }
    },
    {
      "cell_type": "code",
      "source": [
        "A = int(input())\n",
        "B = int(input())\n",
        "C = A*B\n",
        "print(C)"
      ],
      "metadata": {
        "colab": {
          "base_uri": "https://localhost:8080/"
        },
        "id": "BEZAj-zz5UQn",
        "outputId": "27c975b9-46d8-4a93-c807-080253bcc156"
      },
      "execution_count": null,
      "outputs": [
        {
          "output_type": "stream",
          "name": "stdout",
          "text": [
            "2\n",
            "3\n",
            "6\n"
          ]
        }
      ]
    },
    {
      "cell_type": "markdown",
      "source": [
        "Write a code get an integer number as input and print the sum of the digits.\n",
        "\n",
        "Input Description:\n",
        "A single line containing an integer.\n",
        "\n",
        "Output Description:\n",
        "Print the sum of the digits of the integer."
      ],
      "metadata": {
        "id": "Y8o1SrMzCu4h"
      }
    },
    {
      "cell_type": "code",
      "source": [
        "number = int(input())\n",
        "result = 0\n",
        "while (number>0):\n",
        "  Remainder  = (number%10)\n",
        "  result = result + Remainder\n",
        "  number = int(number/10)\n",
        "print(result)\n"
      ],
      "metadata": {
        "colab": {
          "base_uri": "https://localhost:8080/"
        },
        "id": "6YB84gyW6kQ6",
        "outputId": "a727d725-5d77-41f0-87bd-45440ad85d1e"
      },
      "execution_count": null,
      "outputs": [
        {
          "output_type": "stream",
          "name": "stdout",
          "text": [
            "123\n",
            "6\n"
          ]
        }
      ]
    },
    {
      "cell_type": "markdown",
      "source": [
        "Write a program to get a string as input and reverse the string without using temporary variable.\n",
        "\n",
        "Input Description:\n",
        "A single line containing a string.\n",
        "\n",
        "Output Description:\n",
        "Print the reversed string."
      ],
      "metadata": {
        "id": "SGZW28SFEZCq"
      }
    },
    {
      "cell_type": "code",
      "source": [
        "string = input()\n",
        "print(string[::-1])\n"
      ],
      "metadata": {
        "colab": {
          "base_uri": "https://localhost:8080/"
        },
        "id": "L49WXqoE7jKs",
        "outputId": "ae86cdc2-0fc0-4ae3-cd7f-396d5c75c855"
      },
      "execution_count": null,
      "outputs": [
        {
          "output_type": "stream",
          "name": "stdout",
          "text": [
            "asdfg\n",
            "gfdsa\n"
          ]
        }
      ]
    },
    {
      "cell_type": "markdown",
      "source": [
        "write a code to get an integer N and print the sum of  values from 1 to N.\n",
        "\n",
        "Input Description:\n",
        "A single line contains an integer N.\n",
        "\n",
        "Output Description:\n",
        "Print the sum of values from 1 to N."
      ],
      "metadata": {
        "id": "NliX688DKNqx"
      }
    },
    {
      "cell_type": "code",
      "source": [
        "N = int(input())\n",
        "L = []\n",
        "for i in range(1,N+1):\n",
        "  L.append(i)\n",
        "\n",
        "print(sum(L))\n",
        "  "
      ],
      "metadata": {
        "colab": {
          "base_uri": "https://localhost:8080/"
        },
        "id": "Q2Q6SsQVDsgg",
        "outputId": "f9fed837-c776-4f8b-9b78-8a2002ee6461"
      },
      "execution_count": null,
      "outputs": [
        {
          "output_type": "stream",
          "name": "stdout",
          "text": [
            "3\n",
            "6\n"
          ]
        }
      ]
    },
    {
      "cell_type": "markdown",
      "source": [
        "Write a code get an integer number as input and print the odd and even digits of the number separately.\n",
        "\n",
        "Input Description:\n",
        "A single line containing an integer.\n",
        "\n",
        "Output Description:\n",
        "Print the even and odd integers of the integer in a separate line."
      ],
      "metadata": {
        "id": "Ui3T4Audd4Kc"
      }
    },
    {
      "cell_type": "code",
      "source": [
        "N = int(input())\n",
        "arr = [int(i) for i in str(N)]\n",
        "\n",
        "even=[]\n",
        "odd=[]\n",
        "\n",
        "for i in arr:\n",
        "  A = (i%2)\n",
        "  if A == 0:\n",
        "    even.append(i)\n",
        "  else:\n",
        "    odd.append(i)\n",
        "even.sort()\n",
        "odd.sort()\n",
        "\n",
        "print(*even, sep=\" \")\n",
        "print(*odd, sep = \" \")"
      ],
      "metadata": {
        "colab": {
          "base_uri": "https://localhost:8080/"
        },
        "id": "2wmLDTE6MYy9",
        "outputId": "517e4c1b-3d68-409d-8ea5-2b6c74564693"
      },
      "execution_count": null,
      "outputs": [
        {
          "output_type": "stream",
          "name": "stdout",
          "text": [
            "2254352\n",
            "2 2 2 4\n",
            "3 5 5\n"
          ]
        }
      ]
    },
    {
      "cell_type": "code",
      "source": [
        "A = input()\n",
        "print(len(A.replace(\" \",\"\")))\n"
      ],
      "metadata": {
        "colab": {
          "base_uri": "https://localhost:8080/"
        },
        "id": "Ur7DiS-Rcl-z",
        "outputId": "759609e5-98d7-4abc-d94e-353915d0a969"
      },
      "execution_count": null,
      "outputs": [
        {
          "output_type": "stream",
          "name": "stdout",
          "text": [
            "anu r\n",
            "4\n"
          ]
        }
      ]
    },
    {
      "cell_type": "markdown",
      "source": [
        "Write a code to get an integer N and print the digits of the integer.\n",
        "\n",
        "Input Description:\n",
        "A single line contains an integer N.\n",
        "\n",
        "Output Description:\n",
        "Print the digits of the integer in a single line separated by space"
      ],
      "metadata": {
        "id": "jhfXJPNJgNXy"
      }
    },
    {
      "cell_type": "code",
      "source": [
        "N = int(input())\n",
        "arr = [int(i) for i in str(N)]\n",
        "print(*arr, sep = \" \")"
      ],
      "metadata": {
        "colab": {
          "base_uri": "https://localhost:8080/"
        },
        "id": "G9B14LeHeMD_",
        "outputId": "277d2668-3fd4-46a6-e75a-45afea51e813"
      },
      "execution_count": null,
      "outputs": [
        {
          "output_type": "stream",
          "name": "stdout",
          "text": [
            "123\n",
            "1 2 3\n"
          ]
        }
      ]
    },
    {
      "cell_type": "markdown",
      "source": [
        "Write a code to get an integer N and print the even values from 1 till N in a separate line.\n",
        "\n",
        "Input Description:\n",
        "A single line contains an integer N.\n",
        "\n",
        "Output Description:\n",
        "Print the even values from 1 to N in a separate line."
      ],
      "metadata": {
        "id": "A6HracnEg796"
      }
    },
    {
      "cell_type": "code",
      "source": [
        "N = int(input())\n",
        "for i in range(1,N+1):\n",
        "  if (i%2 == 0):\n",
        "    print(i)"
      ],
      "metadata": {
        "colab": {
          "base_uri": "https://localhost:8080/"
        },
        "id": "ITATE-65gEkT",
        "outputId": "e8b5498b-5e18-4895-94eb-ce294ab9ed84"
      },
      "execution_count": null,
      "outputs": [
        {
          "output_type": "stream",
          "name": "stdout",
          "text": [
            "8\n",
            "2\n",
            "4\n",
            "6\n",
            "8\n"
          ]
        }
      ]
    },
    {
      "cell_type": "markdown",
      "source": [
        "Write a code to get an integer N and print values from 1 till N in a separate line.\n",
        "\n",
        "Input Description:\n",
        "A single line contains an integer N.\n",
        "\n",
        "Output Description:\n",
        "Print the values from 1 to N in a separate line.\n",
        "\n"
      ],
      "metadata": {
        "id": "xuxTziDOhMYv"
      }
    },
    {
      "cell_type": "code",
      "source": [
        "N = int(input())\n",
        "for i in range(1,N+1):\n",
        "    print(i)"
      ],
      "metadata": {
        "colab": {
          "base_uri": "https://localhost:8080/"
        },
        "id": "pJ4q_LT5gjxI",
        "outputId": "f08dde3f-115f-4aa2-f4eb-b828af1dbba0"
      },
      "execution_count": null,
      "outputs": [
        {
          "output_type": "stream",
          "name": "stdout",
          "text": [
            "5\n",
            "1\n",
            "2\n",
            "3\n",
            "4\n",
            "5\n"
          ]
        }
      ]
    },
    {
      "cell_type": "code",
      "source": [
        ""
      ],
      "metadata": {
        "id": "IJ87hCRohPI_"
      },
      "execution_count": null,
      "outputs": []
    }
  ]
}