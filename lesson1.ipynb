{
  "nbformat": 4,
  "nbformat_minor": 0,
  "metadata": {
    "colab": {
      "name": "Untitled1.ipynb",
      "provenance": [],
      "collapsed_sections": []
    },
    "kernelspec": {
      "name": "python3",
      "display_name": "Python 3"
    },
    "language_info": {
      "name": "python"
    }
  },
  "cells": [
    {
      "cell_type": "markdown",
      "source": [
        "Write a code to get 2 integers A and N. Print the integer A, N times in separate line.\n",
        "\n",
        "Input Description:\n",
        "First line contains an integer A. Second line contains an Integer N.\n",
        "\n",
        "Output Description:\n",
        "Print the integer A, N times in a separate line."
      ],
      "metadata": {
        "id": "Y3j6W0q1dt1y"
      }
    },
    {
      "cell_type": "code",
      "execution_count": 16,
      "metadata": {
        "colab": {
          "base_uri": "https://localhost:8080/"
        },
        "id": "ow4D9cGfW4z4",
        "outputId": "e11e220d-ccce-4a0d-d242-41cc1ac2173c"
      },
      "outputs": [
        {
          "output_type": "stream",
          "name": "stdout",
          "text": [
            "2 4\n",
            "2\n",
            "2\n",
            "2\n",
            "2\n"
          ]
        }
      ],
      "source": [
        "A,N= [int(i) for i in input().split()]\n",
        "\n",
        "\n",
        "for i in range (1, N+1):\n",
        "  print(A)\n",
        "\n"
      ]
    },
    {
      "cell_type": "markdown",
      "source": [
        "You are provided with two numbers. Find and print the smaller number.\n",
        "\n",
        "Input Description:\n",
        "You are provided with two numbers as input.\n",
        "\n",
        "Output Description:\n",
        "Print the small number out of the two numbers."
      ],
      "metadata": {
        "id": "bxIAPYfUf4YA"
      }
    },
    {
      "cell_type": "code",
      "source": [
        "A,N= [int(i) for i in input().split()]\n",
        "\n",
        "print(N) if N < A else print(A)"
      ],
      "metadata": {
        "colab": {
          "base_uri": "https://localhost:8080/"
        },
        "id": "IaUOF6RSePmw",
        "outputId": "8e7927c2-7bb4-45eb-ec4b-421c7a9f6690"
      },
      "execution_count": 19,
      "outputs": [
        {
          "output_type": "stream",
          "name": "stdout",
          "text": [
            "2 3\n",
            "2\n"
          ]
        }
      ]
    },
    {
      "cell_type": "markdown",
      "source": [
        "Write a code to get an integer N and print the values from N to 1.\n",
        "\n",
        "Input Description:\n",
        "A single line contains an integer N.\n",
        "\n",
        "Output Description:\n",
        "Print the values from N to 1 in a separate line."
      ],
      "metadata": {
        "id": "HK8KRdt8hXfc"
      }
    },
    {
      "cell_type": "code",
      "source": [
        "N =int(input())\n",
        "for i in range(N,0,-1):\n",
        "  print(i)"
      ],
      "metadata": {
        "colab": {
          "base_uri": "https://localhost:8080/"
        },
        "id": "aoWiHdmlf8SK",
        "outputId": "ac4f2b7a-c45a-42ea-c928-be7843729f82"
      },
      "execution_count": 28,
      "outputs": [
        {
          "output_type": "stream",
          "name": "stdout",
          "text": [
            "5\n",
            "5\n",
            "4\n",
            "3\n",
            "2\n",
            "1\n"
          ]
        }
      ]
    },
    {
      "cell_type": "markdown",
      "source": [
        "converting fahrenheit to celscius"
      ],
      "metadata": {
        "id": "jmaantqQ3KO5"
      }
    },
    {
      "cell_type": "code",
      "source": [
        "temp = 5\n",
        "cel = 0\n",
        "fahr = float(temp)\n",
        "cel = (fahr - 32.0) * 5.0 / 9.0\n",
        "print(cel)"
      ],
      "metadata": {
        "colab": {
          "base_uri": "https://localhost:8080/"
        },
        "id": "ZbRDdACH27UE",
        "outputId": "8c436e3d-a15b-4bdf-81de-bcbaefb63f7e"
      },
      "execution_count": 58,
      "outputs": [
        {
          "output_type": "stream",
          "name": "stdout",
          "text": [
            "-15.0\n"
          ]
        }
      ]
    },
    {
      "cell_type": "code",
      "source": [
        ""
      ],
      "metadata": {
        "id": "XqiL91MjlDvg"
      },
      "execution_count": null,
      "outputs": []
    }
  ]
}