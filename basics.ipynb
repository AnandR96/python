{
  "nbformat": 4,
  "nbformat_minor": 0,
  "metadata": {
    "colab": {
      "name": "basics.ipynb",
      "provenance": [],
      "collapsed_sections": []
    },
    "kernelspec": {
      "name": "python3",
      "display_name": "Python 3"
    },
    "language_info": {
      "name": "python"
    }
  },
  "cells": [
    {
      "cell_type": "code",
      "execution_count": null,
      "metadata": {
        "colab": {
          "base_uri": "https://localhost:8080/"
        },
        "id": "AXys_ORFYjTz",
        "outputId": "1cb9734d-3921-43f3-f8b6-135b106b9164"
      },
      "outputs": [
        {
          "output_type": "stream",
          "name": "stdout",
          "text": [
            "[4, 3, 2, 0, 0, 0]\n",
            "10\n"
          ]
        }
      ],
      "source": [
        "N = 6\n",
        "arr = [3,0,0,2,0,4]\n",
        "arr.sort(reverse=True)\n",
        "sum = 0\n",
        "print(arr)\n",
        "for i in range(1,N):\n",
        "  val = arr[1]-arr[i]\n",
        "  sum = sum+val\n",
        "print(sum)"
      ]
    },
    {
      "cell_type": "code",
      "source": [
        "A = int(input())\n",
        "arr = [int(x) for x in input().split()]\n",
        "print(arr)\n",
        "# arr = [int(i) for i in str(N)]\n",
        "arr.sort(reverse=True)\n",
        "sum = 0\n",
        "print(arr)\n",
        "for i in range(1,A):\n",
        "  val = arr[1]-arr[i]\n",
        "  sum = sum+val\n",
        "print(sum)"
      ],
      "metadata": {
        "colab": {
          "base_uri": "https://localhost:8080/"
        },
        "id": "lDmfyj16hM3y",
        "outputId": "60a43bca-a6b0-4c97-bdee-321a68d32c6f"
      },
      "execution_count": null,
      "outputs": [
        {
          "output_type": "stream",
          "name": "stdout",
          "text": [
            "3\n",
            "6 9 9\n",
            "[6, 9, 9]\n",
            "[9, 9, 6]\n",
            "3\n"
          ]
        }
      ]
    },
    {
      "cell_type": "code",
      "source": [
        "class Solution(object):\n",
        "   def trap(self, height):\n",
        "      stack = []\n",
        "      water = 0\n",
        "      i=0\n",
        "      while i<len(height):\n",
        "         if len(stack) == 0 or height[stack[-1]]>=height[i]:\n",
        "            stack.append(i)\n",
        "            i+=1\n",
        "         else:\n",
        "            x = stack[-1]\n",
        "            stack.pop()\n",
        "            if len(stack) != 0:\n",
        "               temp = min(height[stack[-1]],height[i])\n",
        "               dist = i - stack[-1]-1\n",
        "               water += dist*(temp - height[x])\n",
        "      return water\n",
        "ob = Solution()\n",
        "print(ob.trap([6,9,9]))"
      ],
      "metadata": {
        "colab": {
          "base_uri": "https://localhost:8080/"
        },
        "id": "IKTc8ECyWOtB",
        "outputId": "5d9846fd-72f0-4f9d-a8d2-7b886e2f04fe"
      },
      "execution_count": null,
      "outputs": [
        {
          "output_type": "stream",
          "name": "stdout",
          "text": [
            "0\n"
          ]
        }
      ]
    },
    {
      "cell_type": "markdown",
      "source": [
        "You are given an array of non-negative integers representing height of walls at index i as Ai and the width of each block is 1. Compute how much air can be encapsulated between the walls of chamber.\n",
        "\n",
        " \n",
        "\n",
        "Input Description:\n",
        "Each line contains an integer ‘N’ denoting the size of the array Next line contains N space separated numbers to be stored in array.\n",
        "\n",
        "Output Description:\n",
        "Output the total unit of Air encapsulated between the walls of chamber."
      ],
      "metadata": {
        "id": "fP1fI_dwflOx"
      }
    },
    {
      "cell_type": "code",
      "source": [
        "A = int(input())\n",
        "arr = list(map(int, input().split()))\n",
        "low = arr[0]\n",
        "sum = 0\n",
        "if arr[A-1]<low:\n",
        "    low = arr[A-1]\n",
        "for i in arr[1:A-1]:\n",
        "    if i<low:\n",
        "        sum += low - i\n",
        "print(sum)"
      ],
      "metadata": {
        "colab": {
          "base_uri": "https://localhost:8080/"
        },
        "id": "CYXEL_yfYMql",
        "outputId": "233fe4f0-094f-4766-c69f-05867d1d9f3a"
      },
      "execution_count": null,
      "outputs": [
        {
          "output_type": "stream",
          "name": "stdout",
          "text": [
            "3\n",
            "6 9 9\n",
            "0\n"
          ]
        }
      ]
    },
    {
      "cell_type": "markdown",
      "source": [
        "You are given with two arrays. Your task is to merge the array such that first array is in ascending order and second one in descending order.\n",
        "\n",
        "Input Description:\n",
        "First line contains two integer ‘n’ and ‘m’. ‘n’ denotes length of array 1 and ‘m’ of array 2.Next line contains n space separated numbers and third line contains ‘m’ space separated numbers\n",
        "\n",
        "Output Description:\n",
        "Print a single array in desired order"
      ],
      "metadata": {
        "id": "mhPbM_ERuHNK"
      }
    },
    {
      "cell_type": "code",
      "source": [
        "arr0 = list(map(int, input().split()))\n",
        "arr1 = list(map(int, input().split()))\n",
        "arr2 = list(map(int, input().split()))\n",
        "arr1.sort()\n",
        "arr2.sort(reverse = True)\n",
        "\n"
      ],
      "metadata": {
        "colab": {
          "base_uri": "https://localhost:8080/"
        },
        "id": "hprk2gH5fD9s",
        "outputId": "0879afb0-be27-43be-f32d-2ae3ea0fed05"
      },
      "execution_count": null,
      "outputs": [
        {
          "name": "stdout",
          "output_type": "stream",
          "text": [
            "3 3\n",
            "23 15 16\n",
            "357 65 10\n"
          ]
        }
      ]
    },
    {
      "cell_type": "code",
      "source": [
        "print(*(arr1+arr2), sep = \" \")"
      ],
      "metadata": {
        "colab": {
          "base_uri": "https://localhost:8080/"
        },
        "id": "53F3h58Or3Bi",
        "outputId": "7ec078e0-51f9-4e3c-f22b-88ad0e766228"
      },
      "execution_count": null,
      "outputs": [
        {
          "output_type": "stream",
          "name": "stdout",
          "text": [
            "15 16 23 357 65 10\n"
          ]
        }
      ]
    },
    {
      "cell_type": "markdown",
      "source": [
        "you are given with array of numbers.you have to find whether array is beautiful or not. A beautiful array is an array whose sum of all numbers is divisible by 2, 3 and 5\n",
        "\n",
        "Input Description:\n",
        "You are given a number ‘n’ denoting the size of array.Next line contains n space separated numbers.\n",
        "\n",
        "Output Description:\n",
        "Print 1 if array is beautiful and 0 if it is not"
      ],
      "metadata": {
        "id": "0sMS8gSCwCYt"
      }
    },
    {
      "cell_type": "code",
      "source": [
        "arr0 = list(map(int, input().split()))\n",
        "arr1 = list(map(int, input().split()))\n",
        "total = 0\n",
        "for i in arr1:\n",
        "  total += i\n",
        "\n",
        "if (total%2==0) and (total%3==0) and (total%5==0):\n",
        "  print(\"1\")\n",
        "else:\n",
        "  print(\"0\")"
      ],
      "metadata": {
        "colab": {
          "base_uri": "https://localhost:8080/"
        },
        "id": "wiqXmIbOsGOG",
        "outputId": "64f7a371-daef-4c46-c7ab-cae7bfc23f65"
      },
      "execution_count": null,
      "outputs": [
        {
          "output_type": "stream",
          "name": "stdout",
          "text": [
            "5\n",
            "5 25 35 -5 30\n",
            "1\n"
          ]
        }
      ]
    },
    {
      "cell_type": "code",
      "source": [
        "arr0 = list(map(int, input().split()))\n",
        "arr1 = list(map(int, input().split()))\n",
        "pointer1 = arr[0]\n",
        "count1 = count2 = num1 = num2 = pointer2 = 0\n",
        "for i in arr1:\n",
        "  if (i==pointer1):\n",
        "    count1 += 1\n",
        "    num1 = i\n",
        "  else:\n",
        "    i = pointer2\n",
        "    count2 += 1\n",
        "    num2 = i\n",
        "if count1 == 2:\n",
        "  print(num1)\n",
        "else:\n",
        "  print(num2)\n",
        " "
      ],
      "metadata": {
        "colab": {
          "base_uri": "https://localhost:8080/"
        },
        "id": "ymILiifWvm29",
        "outputId": "e1418662-471d-4957-ce68-2d47e44edb25"
      },
      "execution_count": null,
      "outputs": [
        {
          "output_type": "stream",
          "name": "stdout",
          "text": [
            "5\n",
            "13 13 13 12 12\n",
            "0\n"
          ]
        }
      ]
    },
    {
      "cell_type": "markdown",
      "source": [
        "You are provided with an array in which all elements are repeated thrice except one which is repeated twice.Your task is to print that number.\n",
        "\n",
        " \n",
        "\n",
        "O(n) time and O(1) extra space\n",
        "\n",
        "Input Description:\n",
        "First line contains a number denoting size of array ‘n’.Next line contains n space separated numbers\n",
        "\n",
        "Output Description:\n",
        "Print the number which is repeated twice"
      ],
      "metadata": {
        "id": "eRJ-GIzF4Q2e"
      }
    },
    {
      "cell_type": "code",
      "source": [
        "arr0 = list(map(int, input().split()))\n",
        "arr1 = list(map(int, input().split()))\n",
        "arr2 = []\n",
        "for i in arr1:\n",
        "  if arr1.count(i)==2:\n",
        "    print(i)\n",
        "    break\n"
      ],
      "metadata": {
        "colab": {
          "base_uri": "https://localhost:8080/"
        },
        "id": "ut3tHsVWwuk6",
        "outputId": "ccbf83d2-a642-453a-beb8-7a85d65ba872"
      },
      "execution_count": null,
      "outputs": [
        {
          "output_type": "stream",
          "name": "stdout",
          "text": [
            "5\n",
            "13 12 13 13 12\n",
            "12\n"
          ]
        }
      ]
    },
    {
      "cell_type": "code",
      "source": [
        "arr0 = list(map(int, input().split()))\n",
        "arr1 = list(map(int, input().split()))\n",
        "import collections\n",
        "counts = collections.Counter(arr1)\n",
        "new_list = sorted(arr1, key=counts.get, reverse=True)\n",
        "print(new_list)"
      ],
      "metadata": {
        "colab": {
          "base_uri": "https://localhost:8080/"
        },
        "id": "5fQX1yjg3y0R",
        "outputId": "f07bfed6-99a1-476c-f29b-c882850f6650"
      },
      "execution_count": null,
      "outputs": [
        {
          "output_type": "stream",
          "name": "stdout",
          "text": [
            "3\n",
            "1 1 2 3\n",
            "[1, 1, 2, 3]\n"
          ]
        }
      ]
    },
    {
      "cell_type": "code",
      "source": [
        "def find_next_smaller_elements(xs):\n",
        "    ys=[-1 for x in x\n",
        "        print(ys)"
      ],
      "metadata": {
        "id": "_SD7WDMgGuqy"
      },
      "execution_count": null,
      "outputs": []
    },
    {
      "cell_type": "markdown",
      "source": [
        "Write a program to print the sum of the first K natural numbers.\n",
        "Input Size : n <= 100000"
      ],
      "metadata": {
        "id": "UmmCYQ2LJTd0"
      }
    },
    {
      "cell_type": "code",
      "source": [
        "A = int(input())\n",
        "sum = 0\n",
        "if (A <= 100000):\n",
        "  for i in range(1,A+1):\n",
        "    sum = sum + i\n",
        "print(sum)"
      ],
      "metadata": {
        "colab": {
          "base_uri": "https://localhost:8080/"
        },
        "id": "eX5qfigPG9hn",
        "outputId": "2b4d6ec2-23e3-4dcc-b70e-751758c81be5"
      },
      "execution_count": null,
      "outputs": [
        {
          "output_type": "stream",
          "name": "stdout",
          "text": [
            "4\n",
            "10\n"
          ]
        }
      ]
    },
    {
      "cell_type": "markdown",
      "source": [
        "Given a number N, print 'yes' if it is composite else print 'no'.\n",
        "\n",
        "composite number"
      ],
      "metadata": {
        "id": "hXlJQSsvcuvZ"
      }
    },
    {
      "cell_type": "code",
      "source": [
        "c = int(input())\n",
        "count = 0\n",
        "for i in range(1,c):\n",
        "  if (c%i == 0):\n",
        "    count += 1\n",
        "if count>2:\n",
        "  print(\"yes\")\n",
        "else:\n",
        "  print(\"no\")\n",
        "  \n",
        "    \n",
        "      \n"
      ],
      "metadata": {
        "colab": {
          "base_uri": "https://localhost:8080/"
        },
        "id": "YS4GRl7bH9il",
        "outputId": "72fe77d1-d065-404e-a729-265dd6f5c67f"
      },
      "execution_count": null,
      "outputs": [
        {
          "output_type": "stream",
          "name": "stdout",
          "text": [
            "73\n",
            "no\n"
          ]
        }
      ]
    },
    {
      "cell_type": "markdown",
      "source": [
        "finding prime number"
      ],
      "metadata": {
        "id": "UPH8dm_0c4Ko"
      }
    },
    {
      "cell_type": "code",
      "source": [
        "c = int(input())\n",
        "count = 0\n",
        "for i in range(1,c):\n",
        "  if (c%i == 0):\n",
        "    count += 1\n",
        "if count<2:\n",
        "  print(\"yes\")\n",
        "else:\n",
        "  print(\"no\")\n",
        "  \n"
      ],
      "metadata": {
        "id": "macgitJbJ6rS",
        "colab": {
          "base_uri": "https://localhost:8080/"
        },
        "outputId": "c4f7f1f3-03ff-46c3-9fac-1fd3e38bd37b"
      },
      "execution_count": null,
      "outputs": [
        {
          "output_type": "stream",
          "name": "stdout",
          "text": [
            "87\n",
            "no\n"
          ]
        }
      ]
    },
    {
      "cell_type": "code",
      "source": [
        "arr1 = list(map(int, input().split()))\n",
        "print(min(arr1))"
      ],
      "metadata": {
        "colab": {
          "base_uri": "https://localhost:8080/"
        },
        "id": "6G-ckeOBbZv7",
        "outputId": "6948c2e5-966f-41c5-f915-09081d5c120e"
      },
      "execution_count": null,
      "outputs": [
        {
          "output_type": "stream",
          "name": "stdout",
          "text": [
            "1 2 3 4 5\n",
            "1\n"
          ]
        }
      ]
    },
    {
      "cell_type": "code",
      "source": [
        "def minimum (A=[]):\n",
        "  return min(A)"
      ],
      "metadata": {
        "id": "5hoztWY7eB3G"
      },
      "execution_count": null,
      "outputs": []
    },
    {
      "cell_type": "code",
      "source": [
        "A = list(map(int, input().split()))"
      ],
      "metadata": {
        "colab": {
          "base_uri": "https://localhost:8080/"
        },
        "id": "4jSVEnhQeg1D",
        "outputId": "afd1fa83-2306-401a-c8ad-41ea8bfc529d"
      },
      "execution_count": null,
      "outputs": [
        {
          "name": "stdout",
          "output_type": "stream",
          "text": [
            "1 2 3 4 5 6\n"
          ]
        }
      ]
    },
    {
      "cell_type": "code",
      "source": [
        "minimum(A)"
      ],
      "metadata": {
        "colab": {
          "base_uri": "https://localhost:8080/"
        },
        "id": "2Nd_apwcfAN5",
        "outputId": "650c06c5-1bfe-460b-eae6-51e5429641c6"
      },
      "execution_count": null,
      "outputs": [
        {
          "output_type": "execute_result",
          "data": {
            "text/plain": [
              "1"
            ]
          },
          "metadata": {},
          "execution_count": 21
        }
      ]
    },
    {
      "cell_type": "markdown",
      "source": [
        "Given 3 numbers N , L and R. Print 'yes' if N is between L and R else print 'no'."
      ],
      "metadata": {
        "id": "sZV5lmMohEk0"
      }
    },
    {
      "cell_type": "code",
      "source": [
        "N = int(input())\n",
        "L , R = list(map(int, input().split()))\n",
        "if (L>N>R) or (R>N>L):\n",
        "  print(\"yes\")\n",
        "else:\n",
        "  print(\"no\")"
      ],
      "metadata": {
        "colab": {
          "base_uri": "https://localhost:8080/"
        },
        "id": "x0P4Q9CZfHE0",
        "outputId": "b141d218-1c0d-4f28-9843-e6fd45d3ff03"
      },
      "execution_count": null,
      "outputs": [
        {
          "output_type": "stream",
          "name": "stdout",
          "text": [
            "2\n",
            "1 3\n",
            "yes\n"
          ]
        }
      ]
    },
    {
      "cell_type": "markdown",
      "source": [
        "Given 2 numbers N and M add both the numbers and check whether the sum is odd or even."
      ],
      "metadata": {
        "id": "AXZBwUWQiGgG"
      }
    },
    {
      "cell_type": "code",
      "source": [
        "N , M = list(map(int, input().split()))\n",
        "P = (N+M)\n",
        "if P%2 == 0:\n",
        "  print(\"even\")\n",
        "else:\n",
        "  print(\"odd\")"
      ],
      "metadata": {
        "colab": {
          "base_uri": "https://localhost:8080/"
        },
        "id": "yggoFPBBgQwZ",
        "outputId": "c918f3d4-be03-4f64-a2f1-6fbf907e7e0b"
      },
      "execution_count": null,
      "outputs": [
        {
          "output_type": "stream",
          "name": "stdout",
          "text": [
            "9 2\n",
            "odd\n"
          ]
        }
      ]
    },
    {
      "cell_type": "code",
      "source": [
        "N , K = list(map(int, input().split()))\n",
        "arr1 = list(map(int, input().split()))\n",
        "if K in arr1:\n",
        "  print(\"yes\")\n",
        "else:\n",
        "  print(\"no\")"
      ],
      "metadata": {
        "colab": {
          "base_uri": "https://localhost:8080/"
        },
        "id": "78LSP2oEhuus",
        "outputId": "60f21d77-5cb8-479d-b430-612a946733a0"
      },
      "execution_count": null,
      "outputs": [
        {
          "output_type": "stream",
          "name": "stdout",
          "text": [
            "1 2\n",
            "2 2 3 4\n",
            "yes\n"
          ]
        }
      ]
    },
    {
      "cell_type": "markdown",
      "source": [
        "Given 2 numbers N,M. Print 'yes' if their product is a perfect square else print 'no'."
      ],
      "metadata": {
        "id": "EWXc6oiJkFKq"
      }
    },
    {
      "cell_type": "code",
      "source": [
        "import numpy as np\n",
        "\n",
        "N , M = list(map(int, input().split()))\n",
        "P = N*M\n",
        "Z = np.sqrt(P)\n",
        "if (Z%1 == 0):\n",
        "  print(\"yes\")\n",
        "else:\n",
        "  print(\"no\")"
      ],
      "metadata": {
        "colab": {
          "base_uri": "https://localhost:8080/"
        },
        "id": "xCkk9tvminGg",
        "outputId": "0c7ea3d5-de26-42b7-a719-31c5ead6d83a"
      },
      "execution_count": null,
      "outputs": [
        {
          "output_type": "stream",
          "name": "stdout",
          "text": [
            "5 5\n",
            "yes\n"
          ]
        }
      ]
    },
    {
      "cell_type": "markdown",
      "source": [
        "Given numbers A,B find A^B.\n",
        "Input Size : 1 <= A <= 5 <= B <= 50"
      ],
      "metadata": {
        "id": "5Rxdfa5SkoWK"
      }
    },
    {
      "cell_type": "code",
      "source": [
        "N,M = list(map(int,input().split()))\n",
        "print(N**M)"
      ],
      "metadata": {
        "colab": {
          "base_uri": "https://localhost:8080/"
        },
        "id": "m31dGGQtjUC3",
        "outputId": "bed644a6-254a-4128-a01d-6491a93d1d89"
      },
      "execution_count": null,
      "outputs": [
        {
          "output_type": "stream",
          "name": "stdout",
          "text": [
            "3 4\n",
            "81\n"
          ]
        }
      ]
    },
    {
      "cell_type": "code",
      "source": [
        "arr1 = list(map(int,input().split()))\n",
        "  \n",
        "print(arr1)\n"
      ],
      "metadata": {
        "colab": {
          "base_uri": "https://localhost:8080/"
        },
        "id": "IkgXJB_9kf8K",
        "outputId": "5650f925-5f76-40f7-d079-6b50584afbf2"
      },
      "execution_count": null,
      "outputs": [
        {
          "output_type": "stream",
          "name": "stdout",
          "text": [
            "1 2 3 4 5 6\n",
            "[1, 2, 3, 4, 5, 6]\n"
          ]
        }
      ]
    },
    {
      "cell_type": "code",
      "source": [
        "from IPython.core.display import JSON\n",
        "temp = 0\n",
        "for i in arr1:\n",
        "  for j in arr1:\n",
        "    temp = i\n",
        "    i = j\n",
        "    j = temp\n",
        "    \n",
        "print(arr1)\n"
      ],
      "metadata": {
        "colab": {
          "base_uri": "https://localhost:8080/"
        },
        "id": "1S78HD4QmaWX",
        "outputId": "c4f46b9d-c486-4185-ffaf-9de85575d7d7"
      },
      "execution_count": null,
      "outputs": [
        {
          "output_type": "stream",
          "name": "stdout",
          "text": [
            "[1, 2, 3, 4, 5, 6]\n"
          ]
        }
      ]
    },
    {
      "cell_type": "code",
      "source": [
        "B, H  = list(map(int,input().split()))\n",
        "\n",
        "area = (B*H)/2\n",
        "\n",
        "print((area))"
      ],
      "metadata": {
        "id": "XYYB9pWd9Dtq",
        "colab": {
          "base_uri": "https://localhost:8080/"
        },
        "outputId": "fa413ce8-8fd7-4a1f-e9e7-2da443153b8b"
      },
      "execution_count": null,
      "outputs": [
        {
          "output_type": "stream",
          "name": "stdout",
          "text": [
            "2 4\n",
            "4.0\n"
          ]
        }
      ]
    },
    {
      "cell_type": "code",
      "source": [
        "A, B, C = list(map(int,input().split()))\n",
        "\n",
        "if A == B or B == C or C == A:\n",
        "  print(\"no\")\n",
        "else:\n",
        "  print(\"yes\")"
      ],
      "metadata": {
        "colab": {
          "base_uri": "https://localhost:8080/"
        },
        "id": "AxLbBwZa-LUO",
        "outputId": "38100b16-f5b2-4872-88c3-7fe3d90b7b14"
      },
      "execution_count": null,
      "outputs": [
        {
          "output_type": "stream",
          "name": "stdout",
          "text": [
            "3 4 4\n",
            "no\n"
          ]
        }
      ]
    },
    {
      "cell_type": "code",
      "source": [
        "print(\"There are\"+\" \"+str(int((4.25+4.75**5/2)/100))+\" \"+\"students in the class\")"
      ],
      "metadata": {
        "colab": {
          "base_uri": "https://localhost:8080/"
        },
        "id": "MKcZo-wBAIFt",
        "outputId": "c847b6a7-5f7a-40c8-e409-c40f2b0d3deb"
      },
      "execution_count": null,
      "outputs": [
        {
          "output_type": "stream",
          "name": "stdout",
          "text": [
            "There are 12 students in the class\n"
          ]
        }
      ]
    },
    {
      "cell_type": "code",
      "source": [
        "import re\n",
        "\n",
        "myString = \"guvigeekchennai\"\n",
        "\n",
        " \n",
        "\n",
        "matchResults = re.match(\"geek\", myString)\n",
        "\n",
        "searchResults = re.search(\"geek\", myString)\n",
        "\n",
        " \n",
        "\n",
        "print(matchResults == None)\n",
        "\n",
        "print(searchResults == None)"
      ],
      "metadata": {
        "colab": {
          "base_uri": "https://localhost:8080/"
        },
        "id": "Lltz3nHqCAjb",
        "outputId": "4fdd79f7-05ae-4a35-8c96-4dd49342eabb"
      },
      "execution_count": null,
      "outputs": [
        {
          "output_type": "stream",
          "name": "stdout",
          "text": [
            "True\n",
            "False\n"
          ]
        }
      ]
    },
    {
      "cell_type": "code",
      "source": [
        "tup = (\"computer\", \"monitor\", \"cpu\")\n",
        "it = iter(tup)\n",
        "while(print(next(it))):\n",
        "    pass"
      ],
      "metadata": {
        "colab": {
          "base_uri": "https://localhost:8080/"
        },
        "id": "VifYPWgZCOz1",
        "outputId": "9025b586-6732-4bf6-f372-d124b9c72cb5"
      },
      "execution_count": null,
      "outputs": [
        {
          "output_type": "stream",
          "name": "stdout",
          "text": [
            "computer\n"
          ]
        }
      ]
    },
    {
      "cell_type": "code",
      "source": [
        "def validate():\n",
        "    s = list('987654')\n",
        "    s[1] = s[-1] = 1\n",
        "    return int(s[1])+int(s[3])\n",
        "validate()"
      ],
      "metadata": {
        "colab": {
          "base_uri": "https://localhost:8080/"
        },
        "id": "PlzZ6Or8CphC",
        "outputId": "24834c05-d8e1-4123-c626-c82a4f69f243"
      },
      "execution_count": null,
      "outputs": [
        {
          "output_type": "execute_result",
          "data": {
            "text/plain": [
              "7"
            ]
          },
          "metadata": {},
          "execution_count": 11
        }
      ]
    },
    {
      "cell_type": "code",
      "source": [
        "import math\n",
        "help(math.gcd)"
      ],
      "metadata": {
        "colab": {
          "base_uri": "https://localhost:8080/"
        },
        "id": "YZ2QgN5mCAEt",
        "outputId": "c12e7719-1723-4eb1-ec2d-d895938c06cd"
      },
      "execution_count": null,
      "outputs": [
        {
          "output_type": "stream",
          "name": "stdout",
          "text": [
            "Help on built-in function gcd in module math:\n",
            "\n",
            "gcd(x, y, /)\n",
            "    greatest common divisor of x and y\n",
            "\n"
          ]
        }
      ]
    },
    {
      "cell_type": "markdown",
      "source": [
        "GCD of two numbers"
      ],
      "metadata": {
        "id": "FB7jlqY4GvTX"
      }
    },
    {
      "cell_type": "code",
      "source": [
        "N,M = list(map(int,input().split()))\n",
        "if N == 0 or M == 0:\n",
        "  print(-1)\n",
        "else:\n",
        "  print(math.gcd(N,M))\n",
        "\n"
      ],
      "metadata": {
        "id": "2rwz8drd91Hp",
        "colab": {
          "base_uri": "https://localhost:8080/"
        },
        "outputId": "30de1460-9369-44ac-8540-9c0f0d320d97"
      },
      "execution_count": null,
      "outputs": [
        {
          "output_type": "stream",
          "name": "stdout",
          "text": [
            "10 5\n",
            "5\n"
          ]
        }
      ]
    },
    {
      "cell_type": "code",
      "source": [
        "N,K = list(map(int,input().split()))\n",
        "M = list(map(int,input().split()))\n",
        "J = []\n",
        "for i in M:\n",
        "  if i == K:\n",
        "    J.append(i)\n",
        "\n",
        "\n",
        "if len(J)>2:\n",
        "  print(len(J)-1)\n",
        "elif len(J)<2 and len(J)>0:\n",
        "  print(0)\n",
        "else:\n",
        "  print(-1)\n",
        "\n"
      ],
      "metadata": {
        "colab": {
          "base_uri": "https://localhost:8080/"
        },
        "id": "QReQ1N3PD0Tm",
        "outputId": "f147e1fc-e9b8-4daf-e592-f17eff2ac0e3"
      },
      "execution_count": null,
      "outputs": [
        {
          "output_type": "stream",
          "name": "stdout",
          "text": [
            "6 2\n",
            "1 3 2 5 7 8\n",
            "0\n"
          ]
        }
      ]
    },
    {
      "cell_type": "code",
      "source": [
        "d,f = list(map(int,input().split()))\n",
        "\n",
        "if (d > f):\n",
        "  small = f\n",
        "else:\n",
        "  small = d\n",
        "for i in range(1, small+1):\n",
        "  if ((d%i == 0)) and (f%i == 0):\n",
        "    hcf = i\n",
        "\n",
        "print(hcf)\n"
      ],
      "metadata": {
        "colab": {
          "base_uri": "https://localhost:8080/"
        },
        "id": "PEPgt-RQHl4_",
        "outputId": "2f42dd44-785b-4af5-cd00-19bb231482f4"
      },
      "execution_count": null,
      "outputs": [
        {
          "output_type": "stream",
          "name": "stdout",
          "text": [
            "2 6\n",
            "2\n"
          ]
        }
      ]
    },
    {
      "cell_type": "code",
      "source": [
        "M = list(map(int,input().split()))\n",
        "arr1 = list(map(int, input().split()))\n",
        "total = 0\n",
        "for i in arr1:\n",
        "  total += i\n",
        "\n",
        "print(total)\n",
        "    \n"
      ],
      "metadata": {
        "colab": {
          "base_uri": "https://localhost:8080/"
        },
        "id": "rmnbUwzmMYx7",
        "outputId": "d70ebef3-9bbb-4b42-e2be-ea9cd1350f24"
      },
      "execution_count": null,
      "outputs": [
        {
          "output_type": "stream",
          "name": "stdout",
          "text": [
            "2\n",
            "4 6\n",
            "10\n"
          ]
        }
      ]
    },
    {
      "cell_type": "markdown",
      "source": [
        "given 3 numbers A,B,C process and print 'yes' if they can form the sides of a triangle otherwise print 'no'.\n",
        "Input Size : A,B,C <= 100000"
      ],
      "metadata": {
        "id": "z3uk3f8tboAH"
      }
    },
    {
      "cell_type": "code",
      "source": [
        "M,N,P = list(map(int,input().split()))\n",
        "\n",
        "if (M+N <= P) or (P+N <= M) or (M+P <= N):\n",
        "  print(\"no\")\n",
        "else:\n",
        "  print(\"yes\")"
      ],
      "metadata": {
        "colab": {
          "base_uri": "https://localhost:8080/"
        },
        "id": "l3z_EWBrTpOS",
        "outputId": "bce0e7fc-8856-4e97-a165-caf0fd67002e"
      },
      "execution_count": null,
      "outputs": [
        {
          "output_type": "stream",
          "name": "stdout",
          "text": [
            "3 4 1\n",
            "no\n"
          ]
        }
      ]
    },
    {
      "cell_type": "markdown",
      "source": [
        "addition without carry"
      ],
      "metadata": {
        "id": "Z-qwi470r6_B"
      }
    },
    {
      "cell_type": "code",
      "source": [
        "import math\n",
        "n1,n2= list(map(int,input().split()))\n",
        "result = 0\n",
        "x = 1;\n",
        "while (n1 > 0 and n2 > 0):\n",
        "  result += x * ((n1 + n2) % 10)\n",
        "  n1 = math.floor(n1 / 10)\n",
        "  n2 = math.floor(n2 / 10)\n",
        "  x*= 10;\n",
        "    \n",
        "\n",
        "print(result)\n",
        "  "
      ],
      "metadata": {
        "id": "AeFG9bExbOuA",
        "colab": {
          "base_uri": "https://localhost:8080/"
        },
        "outputId": "0f31abe3-cec5-4a5c-d3c7-6dc46ddab523"
      },
      "execution_count": null,
      "outputs": [
        {
          "output_type": "stream",
          "name": "stdout",
          "text": [
            "44 66\n",
            "0\n"
          ]
        }
      ]
    },
    {
      "cell_type": "code",
      "source": [
        "A,B,C = list(map(int,input().split()))\n",
        "\n",
        "if A**2 + B**2 == C**2:\n",
        "  print(\"yes\")\n",
        "else:\n",
        "  print(\"no\")"
      ],
      "metadata": {
        "colab": {
          "base_uri": "https://localhost:8080/"
        },
        "id": "qnMjrttNrzy1",
        "outputId": "c6410689-733c-4389-ccf1-ed6d1f229e48"
      },
      "execution_count": null,
      "outputs": [
        {
          "output_type": "stream",
          "name": "stdout",
          "text": [
            "3 4 5\n",
            "yes\n"
          ]
        }
      ]
    },
    {
      "cell_type": "markdown",
      "source": [
        "BITWISE NOT"
      ],
      "metadata": {
        "id": "foCGC7yUvxBI"
      }
    },
    {
      "cell_type": "code",
      "source": [
        "a = int(input())\n",
        "print(~a)"
      ],
      "metadata": {
        "colab": {
          "base_uri": "https://localhost:8080/"
        },
        "id": "BAdPIQaLvfbf",
        "outputId": "45b9af18-e608-4fb6-bc9e-fc53ab285e86"
      },
      "execution_count": null,
      "outputs": [
        {
          "output_type": "stream",
          "name": "stdout",
          "text": [
            "5\n",
            "-6\n"
          ]
        }
      ]
    },
    {
      "cell_type": "markdown",
      "source": [
        "ROCK PAPER SCISSOR"
      ],
      "metadata": {
        "id": "V7SYNRR4xlTd"
      }
    },
    {
      "cell_type": "code",
      "source": [
        "M,N = list(map(str,input().split()))\n",
        "if (M==\"R\" and N==\"P\") or (N==\"R\" and M==\"P\"):\n",
        "  print(\"P\")\n",
        "elif (M==\"S\" and N==\"P\") or (M==\"P\" and N==\"S\"):\n",
        "  print(\"S\")\n",
        "elif (M==\"R\" and N==\"S\") or (M==\"S\" and N==\"R\"):\n",
        "  print(\"R\")\n",
        "else:\n",
        "  print(\"D\")"
      ],
      "metadata": {
        "colab": {
          "base_uri": "https://localhost:8080/"
        },
        "id": "5462iYjOv3oF",
        "outputId": "5a29c410-e8e2-4cee-e80b-3c04ad356dc1"
      },
      "execution_count": null,
      "outputs": [
        {
          "output_type": "stream",
          "name": "stdout",
          "text": [
            "R R\n",
            "D\n"
          ]
        }
      ]
    },
    {
      "cell_type": "markdown",
      "source": [
        "Given a string 'S' swap the even and odd characters starting from index 1(Assume the index starts from 0).\n",
        "Input Size : |s| <= 10000000(complexity O(n))\n",
        "Sample Testcase :\n",
        "INPUT\n",
        "codekata\n",
        "OUTPUT\n",
        "ocedakat"
      ],
      "metadata": {
        "id": "fZE54TFl48Wx"
      }
    },
    {
      "cell_type": "code",
      "source": [
        "M = input()\n",
        "arr = list(M)\n",
        "newarr = []\n",
        "for n in range(0,len(arr)-1,2):\n",
        "  i = arr[n]\n",
        "  j = arr[n+1]\n",
        "  newarr.extend([j,i])\n",
        "res = ''.join(str(i) for i in newarr)\n",
        "\n",
        "print(res)\n"
      ],
      "metadata": {
        "colab": {
          "base_uri": "https://localhost:8080/"
        },
        "id": "qN2C8ozHx4wi",
        "outputId": "de744f5b-e937-45be-8936-6364978c5a1b"
      },
      "execution_count": null,
      "outputs": [
        {
          "output_type": "stream",
          "name": "stdout",
          "text": [
            "abc\n",
            "ba\n"
          ]
        }
      ]
    },
    {
      "cell_type": "markdown",
      "source": [
        "find index of smallest and largest number in the array"
      ],
      "metadata": {
        "id": "T329PCy8Kq-6"
      }
    },
    {
      "cell_type": "code",
      "source": [
        "arr = list(map(int,input().split()))\n",
        "arr = list(map(int,input().split()))\n",
        "arr1 = []\n",
        "for n in range(len(arr)):\n",
        "  if(arr[n]==min(arr)):\n",
        "    arr1.append(n+1)\n",
        "for n in range(len(arr)):\n",
        "  if(arr[n]==max(arr)):\n",
        "    arr1.append(n+1)\n",
        "\n",
        "print(*arr1, end = \"\")\n",
        "\n"
      ],
      "metadata": {
        "colab": {
          "base_uri": "https://localhost:8080/"
        },
        "id": "2CIul7jjF_lg",
        "outputId": "222caf7c-38db-461e-fe3b-b8af5e38018d"
      },
      "execution_count": null,
      "outputs": [
        {
          "output_type": "stream",
          "name": "stdout",
          "text": [
            "1\n",
            "2 3\n",
            "1 2"
          ]
        }
      ]
    },
    {
      "cell_type": "markdown",
      "source": [
        "Given a list of N coins, their values (V1, V2, … , VN), and the total sum S. Find the minimum number of coins the sum of which is S (we can use as many coins of one type as we want), if it is not possible to select coins in such a way that they sum up to S then print '-1'.\n",
        "Example: Given coins with values 1, 3, and 5. And the sum S is 11.\n",
        "Output: 3, 2 coins of 3 and 1 coin of 5\n",
        "Input Size : N<=10000\n",
        "Example:\n",
        "INPUT\n",
        "3 11\n",
        "1 3 5\n",
        "OUTPUT\n",
        "3"
      ],
      "metadata": {
        "id": "eFyzeFymqCp3"
      }
    },
    {
      "cell_type": "code",
      "source": [
        "list_of_coins, total_value = list(map(int,input().split()))\n",
        "value_of_coins = list(map(int,input().split()))\n",
        "\n",
        "\n",
        "\n"
      ],
      "metadata": {
        "id": "AprlOt2-HD9G"
      },
      "execution_count": null,
      "outputs": []
    },
    {
      "cell_type": "code",
      "source": [
        "i=org=4\n",
        "count=0\n",
        "total=15\n",
        "\n",
        "\n",
        "print(i)\n",
        "print(count)"
      ],
      "metadata": {
        "colab": {
          "base_uri": "https://localhost:8080/"
        },
        "id": "zUQ-Ov-PML9D",
        "outputId": "5b6e4357-857a-4ce0-aaf2-ab620fa08257"
      },
      "execution_count": null,
      "outputs": [
        {
          "output_type": "stream",
          "name": "stdout",
          "text": [
            "16\n",
            "4\n"
          ]
        }
      ]
    },
    {
      "cell_type": "code",
      "source": [
        "i=org=4\n",
        "count=0\n",
        "total=15\n",
        "while(i<total):\n",
        "  count +=1\n",
        "  i = org*count\n",
        "  \n",
        "\n",
        "print(i)\n",
        "print(count)"
      ],
      "metadata": {
        "id": "KL__uCGIMgFl",
        "colab": {
          "base_uri": "https://localhost:8080/"
        },
        "outputId": "591d5a0e-0698-4603-aa5c-8b73d662f416"
      },
      "execution_count": null,
      "outputs": [
        {
          "output_type": "stream",
          "name": "stdout",
          "text": [
            "16\n",
            "4\n"
          ]
        }
      ]
    },
    {
      "cell_type": "code",
      "source": [
        "def reverse(s):\n",
        "    if len(s) == 0:\n",
        "        return s\n",
        "    else:\n",
        "        return reverse(s[1:]) + s[0]\n",
        "\n",
        "s = input()\n",
        "\n",
        "r = (reverse(s))\n",
        "\n",
        "print(r.capitalize())"
      ],
      "metadata": {
        "colab": {
          "base_uri": "https://localhost:8080/"
        },
        "id": "U0FvTYStJHti",
        "outputId": "bcee3986-5ddb-402d-f4b7-dc40410e78f7"
      },
      "execution_count": null,
      "outputs": [
        {
          "output_type": "stream",
          "name": "stdout",
          "text": [
            "NITIN\n",
            "Nitin\n"
          ]
        }
      ]
    },
    {
      "cell_type": "code",
      "source": [
        "d = input()\n",
        "\n",
        "re = (d[::-1])\n",
        "\n",
        "print(re.capitalize())\n"
      ],
      "metadata": {
        "colab": {
          "base_uri": "https://localhost:8080/"
        },
        "id": "O-UKjAewJ2Il",
        "outputId": "3ad9eaf8-d71e-4208-d6e2-2b26181400a9"
      },
      "execution_count": null,
      "outputs": [
        {
          "output_type": "stream",
          "name": "stdout",
          "text": [
            "asdfg\n",
            "Gfdsa\n"
          ]
        }
      ]
    },
    {
      "cell_type": "markdown",
      "source": [
        "You are given a string.Your task is to print only the consonants present in the string without affecting the sentence spacings if present. If no consonants are present print -1"
      ],
      "metadata": {
        "id": "tp-MiSl4Vsb7"
      }
    },
    {
      "cell_type": "code",
      "source": [
        "st = input().lower()\n",
        "for i in st:\n",
        "  if i == \"a\" or i == \"e\" or i == \"i\" or i == \"o\" or i == \"u\" :\n",
        "    st = st.replace(i,\"\")\n",
        "\n",
        "print(st)"
      ],
      "metadata": {
        "colab": {
          "base_uri": "https://localhost:8080/"
        },
        "id": "Oghi0VoyNec8",
        "outputId": "9d6f0753-07f5-4db9-afd4-875849aaea08"
      },
      "execution_count": null,
      "outputs": [
        {
          "output_type": "stream",
          "name": "stdout",
          "text": [
            "welcome\n",
            "wlcm\n"
          ]
        }
      ]
    },
    {
      "cell_type": "markdown",
      "source": [
        "check for palindrome sequence"
      ],
      "metadata": {
        "id": "BkcoYkttXaKL"
      }
    },
    {
      "cell_type": "code",
      "source": [
        "d = input()\n",
        "\n",
        "re = (d[::-1])\n",
        "\n",
        "if d == re:\n",
        "  print(1)\n",
        "else:\n",
        "  print(0)\n",
        "\n"
      ],
      "metadata": {
        "id": "8Cqqy2HPOcZT",
        "colab": {
          "base_uri": "https://localhost:8080/"
        },
        "outputId": "e50cae4a-ff04-4b94-850f-72c1ac1639c9"
      },
      "execution_count": null,
      "outputs": [
        {
          "output_type": "stream",
          "name": "stdout",
          "text": [
            "nitin\n",
            "1\n"
          ]
        }
      ]
    },
    {
      "cell_type": "markdown",
      "source": [
        "you are given a string made up of parenthesis only.Your task is to check whether parenthesis are balanced or not.If they are balanced print 1 else print 0"
      ],
      "metadata": {
        "id": "7wufGHD-ofmF"
      }
    },
    {
      "cell_type": "code",
      "source": [
        "p = input()\n",
        "ar = 0\n",
        "ar1 = 0\n",
        "ar2 = 0\n",
        "for i in p:\n",
        "  if i == \"(\":\n",
        "    ar+=1\n",
        "  elif i == \")\":\n",
        "    ar-=1\n",
        "  elif i == \"[\":\n",
        "    ar+=1\n",
        "  elif i == \"]\":\n",
        "    ar-=1\n",
        "  elif i==\"{\":\n",
        "    ar+=1\n",
        "  elif i == \"}\":\n",
        "    ar-=1\n",
        "\n",
        "if ar == 0:\n",
        "  print(1)\n",
        "else:\n",
        "  print(0)"
      ],
      "metadata": {
        "colab": {
          "base_uri": "https://localhost:8080/"
        },
        "id": "m44DjZIoWUn3",
        "outputId": "5f7efc3e-c9c8-4310-c0d7-94ea13c6dad3"
      },
      "execution_count": null,
      "outputs": [
        {
          "output_type": "stream",
          "name": "stdout",
          "text": [
            "{{}}[]()\n",
            "1\n"
          ]
        }
      ]
    },
    {
      "cell_type": "markdown",
      "source": [
        "remove repeating characters from string"
      ],
      "metadata": {
        "id": "bmCf1iZavTES"
      }
    },
    {
      "cell_type": "code",
      "source": [
        "word = input()\n",
        "chararr = list(word)\n",
        "for x in chararr:\n",
        "  if (word.count(x)==1):\n",
        "    print(*x,end=\"\")\n",
        "   \n",
        " #   newword= word.replace(x,\"\")\n",
        "# print(newword)\n",
        "# print(chararr)\n"
      ],
      "metadata": {
        "id": "9NDsWgS3pKnv",
        "colab": {
          "base_uri": "https://localhost:8080/"
        },
        "outputId": "6e8f9656-7c9b-438e-8013-58107ac7cb19"
      },
      "execution_count": null,
      "outputs": [
        {
          "name": "stdout",
          "output_type": "stream",
          "text": [
            "133331\n"
          ]
        }
      ]
    },
    {
      "cell_type": "code",
      "source": [
        ""
      ],
      "metadata": {
        "id": "c2BXCJzmRy77"
      },
      "execution_count": null,
      "outputs": []
    },
    {
      "cell_type": "markdown",
      "source": [
        "\n",
        "removing duplicates from string\n"
      ],
      "metadata": {
        "id": "kiLp0s9I1jX5"
      }
    },
    {
      "cell_type": "code",
      "source": [
        "charc = input()\n",
        "from collections import OrderedDict\n",
        "print(\"\".join(OrderedDict.fromkeys(charc)))"
      ],
      "metadata": {
        "colab": {
          "base_uri": "https://localhost:8080/"
        },
        "id": "6FgYX8XqxpM2",
        "outputId": "a2908ad5-6548-4ac9-b0f8-8f104d246e11"
      },
      "execution_count": null,
      "outputs": [
        {
          "output_type": "stream",
          "name": "stdout",
          "text": [
            "33113\n",
            "31\n"
          ]
        }
      ]
    },
    {
      "cell_type": "code",
      "source": [
        "num = list(map(int,input().split()))\n",
        "temp = []\n",
        "final = []\n",
        "for i in num[1:]:\n",
        "  if i != temp:\n",
        "    final += i\n",
        "    temp = i\n",
        "\n",
        "print(final)"
      ],
      "metadata": {
        "id": "3enhKNYA1FoH",
        "colab": {
          "base_uri": "https://localhost:8080/"
        },
        "outputId": "d54b282a-3b18-4709-9088-2041c7f2d870"
      },
      "execution_count": null,
      "outputs": [
        {
          "output_type": "stream",
          "name": "stdout",
          "text": [
            "1331\n",
            "[]\n"
          ]
        }
      ]
    },
    {
      "cell_type": "code",
      "source": [
        "print(*num, end =\"\")\n",
        "print(res)"
      ],
      "metadata": {
        "colab": {
          "base_uri": "https://localhost:8080/"
        },
        "id": "5SXFscgMsHWc",
        "outputId": "34cf66ba-30ad-4143-a86e-e96ec193a39d"
      },
      "execution_count": null,
      "outputs": [
        {
          "output_type": "stream",
          "name": "stdout",
          "text": [
            "1331\n"
          ]
        }
      ]
    },
    {
      "cell_type": "code",
      "source": [
        "s=\"133221112\"\n",
        "def removeConsecutiveDuplicates(s):\n",
        "    if len(s)<2:\n",
        "        return s\n",
        "    if s[0]!=s[1]:\n",
        "        return s[0]+removeConsecutiveDuplicates(s[1:])\n",
        "    return removeConsecutiveDuplicates(s[1:])\n",
        "\n",
        "#s = input()\n",
        "print(removeConsecutiveDuplicates(s))\n"
      ],
      "metadata": {
        "colab": {
          "base_uri": "https://localhost:8080/"
        },
        "id": "l4-0SawMt3Wd",
        "outputId": "76a86911-aabb-46d1-dfa1-6d13bd2fed4c"
      },
      "execution_count": null,
      "outputs": [
        {
          "output_type": "stream",
          "name": "stdout",
          "text": [
            "13212\n"
          ]
        }
      ]
    },
    {
      "cell_type": "code",
      "source": [
        "word = input()\n",
        "c_arr = list(word)\n",
        "for x in c_arr:\n",
        "  if (word.count(x)==1):\n",
        "    print(*x,end=\"\")"
      ],
      "metadata": {
        "colab": {
          "base_uri": "https://localhost:8080/"
        },
        "id": "tQXdN_WN03u4",
        "outputId": "8403c591-5bb0-43ca-e663-b90a08603a9b"
      },
      "execution_count": null,
      "outputs": [
        {
          "name": "stdout",
          "output_type": "stream",
          "text": [
            "1331\n"
          ]
        }
      ]
    },
    {
      "cell_type": "code",
      "source": [
        "numbers = list(map(int,input().split()))\n",
        "import itertools\n",
        "for (key,group) in itertools.groupby(numbers):\n",
        "    print (key,list(group))"
      ],
      "metadata": {
        "colab": {
          "base_uri": "https://localhost:8080/"
        },
        "id": "-Berq5_y33sn",
        "outputId": "d7f3be9d-f728-4422-e4cf-28ffbf212961"
      },
      "execution_count": null,
      "outputs": [
        {
          "output_type": "stream",
          "name": "stdout",
          "text": [
            "133311\n",
            "133311 [133311]\n"
          ]
        }
      ]
    },
    {
      "cell_type": "markdown",
      "source": [
        "Given a string 'S' print the sum of weight of the String. A weight of character is defined as the ASCII value of corresponding character.\n",
        "\n",
        "Input Description:\n",
        "You are given a string ‘s’\n",
        "\n",
        "Output Description:\n",
        "Print weight"
      ],
      "metadata": {
        "id": "UiI9vaQy-2b-"
      }
    },
    {
      "cell_type": "code",
      "source": [
        "wor = input()\n",
        "fig = 0\n",
        "for i in wor:\n",
        "  fig+=ord(i)\n",
        "\n",
        "print(fig)"
      ],
      "metadata": {
        "colab": {
          "base_uri": "https://localhost:8080/"
        },
        "id": "hbXpp3f_4iFH",
        "outputId": "2f398343-34ff-478e-8edb-46787b3d3602"
      },
      "execution_count": null,
      "outputs": [
        {
          "output_type": "stream",
          "name": "stdout",
          "text": [
            "abc\n",
            "294\n"
          ]
        }
      ]
    },
    {
      "cell_type": "code",
      "source": [
        "wor = input()\n",
        "c = len(wor)\n",
        "m = 0\n",
        "n = 0\n",
        "if c%2!=0:\n",
        "  m = round(c/2)\n",
        "  new = wor.replace(wor[m],\"*\")\n",
        "elif c%2==0:\n",
        "  m = round(c/2)\n",
        "  new = wor.replace(wor[m],\"*\")\n",
        "  n = round(m-1)\n",
        "  new = wor.replace(wor[n],\"*\")\n",
        "\n",
        "print(new)\n",
        "\n",
        "  "
      ],
      "metadata": {
        "colab": {
          "base_uri": "https://localhost:8080/"
        },
        "id": "9qnBgfuT-j4M",
        "outputId": "1e0002dd-c2b5-40db-b625-e046e1e1477e"
      },
      "execution_count": null,
      "outputs": [
        {
          "output_type": "stream",
          "name": "stdout",
          "text": [
            "asdfgh\n",
            "3 0\n",
            "asd*gh\n"
          ]
        }
      ]
    },
    {
      "cell_type": "code",
      "source": [
        "st = input().lower()\n",
        "s = 0\n",
        "for i in st:\n",
        "  if i == \"a\" or i == \"e\" or i == \"i\" or i == \"o\" or i == \"u\" :\n",
        "    s += 1\n",
        "    print(\"yes\")\n",
        "    break\n",
        "if s==0:\n",
        "  print(\"no\")\n",
        "\n",
        "    \n",
        "\n"
      ],
      "metadata": {
        "id": "OF21zmH1GYno",
        "colab": {
          "base_uri": "https://localhost:8080/"
        },
        "outputId": "87fc3297-b6a8-4797-d43c-4f430dd78568"
      },
      "execution_count": null,
      "outputs": [
        {
          "output_type": "stream",
          "name": "stdout",
          "text": [
            "cmd\n",
            "no\n"
          ]
        }
      ]
    },
    {
      "cell_type": "markdown",
      "source": [
        "You are given with a string which comprises of some numbers. Your task is to find the largest integer by converting the string to the corresponding integer.\n",
        "\n",
        "Input Description:\n",
        "First line contains n denoting number of Test Cases. The first and only Line of testcase has the string\n",
        "\n",
        "Output Description:\n",
        "Print the largest number"
      ],
      "metadata": {
        "id": "Meon22qLXIaj"
      }
    },
    {
      "cell_type": "code",
      "source": [
        "l = input()\n",
        "b = l.replace(\".\",\"\")\n",
        "\n",
        "line = list(b.split())\n",
        "a = []\n",
        "for i in line:\n",
        "  if i.isdigit():\n",
        "    a.append(i)\n",
        "\n",
        "c = list(map(int,a))\n",
        "print(max(c))"
      ],
      "metadata": {
        "colab": {
          "base_uri": "https://localhost:8080/"
        },
        "id": "lsxdlJu6JpfR",
        "outputId": "20adcdbe-b59d-457c-af1e-bb3a46b07d6c"
      },
      "execution_count": null,
      "outputs": [
        {
          "output_type": "stream",
          "name": "stdout",
          "text": [
            "You are given a paragraph 25\n",
            "25\n"
          ]
        }
      ]
    },
    {
      "cell_type": "markdown",
      "source": [
        "You are given a paragraph.Your task is to print the words that come just after articles.\n",
        "\n",
        "Input Description:\n",
        "You are given a string ‘s’\n",
        "\n",
        "Output Description:\n",
        "print the words that come just after articles and -1 if there are no articles"
      ],
      "metadata": {
        "id": "bkaFMui12kQf"
      }
    },
    {
      "cell_type": "code",
      "source": [
        "para = input().lower()\n",
        "line = list(para.split())\n",
        "length = len(line)\n",
        "a = []\n",
        "for i in range(length):\n",
        "  if (line[i] == \"the\" or line[i]==\"a\"):\n",
        "    a.append(line[i+1])\n",
        " \n",
        "\n",
        "print(*a,end=\"\")"
      ],
      "metadata": {
        "id": "K_nI9JDmVMl-",
        "colab": {
          "base_uri": "https://localhost:8080/"
        },
        "outputId": "59f5fc6d-7f16-4e9c-9805-c9dbe106584a"
      },
      "execution_count": null,
      "outputs": [
        {
          "output_type": "stream",
          "name": "stdout",
          "text": [
            "the dog barks\n",
            "dog"
          ]
        }
      ]
    },
    {
      "cell_type": "code",
      "source": [
        ""
      ],
      "metadata": {
        "id": "rJrWTuYt6oVP"
      },
      "execution_count": null,
      "outputs": []
    }
  ]
}