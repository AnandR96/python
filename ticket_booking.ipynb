{
  "nbformat": 4,
  "nbformat_minor": 0,
  "metadata": {
    "colab": {
      "name": "ticket booking.ipynb",
      "provenance": [],
      "collapsed_sections": []
    },
    "kernelspec": {
      "name": "python3",
      "display_name": "Python 3"
    },
    "language_info": {
      "name": "python"
    }
  },
  "cells": [
    {
      "cell_type": "markdown",
      "source": [
        "Ticket booking backend\n",
        "\n",
        "1-register the user and store names and password in a list\n",
        "\n",
        "2-allow the user to login if the user name exists and password matches\n",
        "\n",
        "3-get DoJ,from and to store in a dictionary format\n",
        "\n",
        "4-display the data of the person (sample is name)"
      ],
      "metadata": {
        "id": "XsHpzdaQFXjd"
      }
    },
    {
      "cell_type": "code",
      "source": [
        "global credential\n",
        "credential = dict()"
      ],
      "metadata": {
        "id": "3Fu1uj-4W-lJ"
      },
      "execution_count": 1,
      "outputs": []
    },
    {
      "cell_type": "code",
      "execution_count": 2,
      "metadata": {
        "id": "_7XTduemyF8S"
      },
      "outputs": [],
      "source": [
        "def ticket_booking():\n",
        "  \n",
        "  print(\"Register if you are new, else Login with your Credentials: \")\n",
        "  Registration = int(input(\"Enter 1 if you want to register, else Enter 0: \"))\n",
        "  if Registration == 1:\n",
        "    Name = input(\"Enter Your Name: \").lower()\n",
        "    PassWord = input(\"Enter your Password: \")\n",
        "    ConfirmPassword = input(\"Confirm your Password: \")\n",
        "    if PassWord == ConfirmPassword:\n",
        "      credential[Name] = PassWord\n",
        "  else:\n",
        "    Name = input(\"Enter Your Name: \").lower()\n",
        "    PassWord = input(\"Enter Your PassWord: \")\n",
        "  if Name in credential:\n",
        "    Date_of_journey = input(\"Enter Date of Journey in dd-mm-yyyy: \")\n",
        "    from_station = input(\"Enter Boarding Station: \")\n",
        "    to_station = input(\"Enter Destination: \")\n",
        "    number_of_tickets = input(\"Enter Number of tickets: \")\n",
        "    credential[Name] = [PassWord,Date_of_journey,from_station,to_station,number_of_tickets]\n",
        "    print(\"please find the details of booking\")  \n",
        "    print(\"['pass','Date of Journey','Boarding','Destination','count']\")\n",
        "    print(credential[Name])\n",
        "  else:\n",
        "    print(\"Do register once\")\n",
        "\n",
        "def fetch_details():\n",
        "  Name = input(\"Enter Name of the person: \").lower()\n",
        "  print(\"find the details below\")\n",
        "  print(\"['pass','Date of Journey','Boarding','Destination','count']\")\n",
        "  print(credential[Name])\n"
      ]
    },
    {
      "cell_type": "markdown",
      "source": [
        "**to book ticket**"
      ],
      "metadata": {
        "id": "6sJyQpGxY2Ih"
      }
    },
    {
      "cell_type": "code",
      "source": [
        "ticket_booking()"
      ],
      "metadata": {
        "colab": {
          "base_uri": "https://localhost:8080/"
        },
        "id": "tFMNat0YNwr1",
        "outputId": "6ef0a104-690d-4451-dd52-a1f435ce03e7"
      },
      "execution_count": 3,
      "outputs": [
        {
          "output_type": "stream",
          "name": "stdout",
          "text": [
            "Register if you are new, else Login with your Credentials: \n",
            "Enter 1 if you want to register, else Enter 0: 1\n",
            "Enter Your Name: Ekambaram\n",
            "Enter your Password: 1234\n",
            "Confirm your Password: 1234\n",
            "Enter Date of Journey in dd-mm-yyyy: 12-12-1098\n",
            "Enter Boarding Station: Kashmir\n",
            "Enter Destination: Kanyakumari\n",
            "Enter Number of tickets: 1\n",
            "please find the details of booking\n",
            "['pass','Date of Journey','Boarding','Destination','count']\n",
            "['1234', '12-12-1098', 'Kashmir', 'Kanyakumari', '1']\n"
          ]
        }
      ]
    },
    {
      "cell_type": "markdown",
      "source": [
        "**get details of passenger**"
      ],
      "metadata": {
        "id": "3mOQ5TgRYu9Y"
      }
    },
    {
      "cell_type": "code",
      "source": [
        "fetch_details()"
      ],
      "metadata": {
        "colab": {
          "base_uri": "https://localhost:8080/"
        },
        "id": "PW_d3f5CVnnA",
        "outputId": "fe45ac49-000e-4881-f52b-ea3c04fdb89f"
      },
      "execution_count": 4,
      "outputs": [
        {
          "output_type": "stream",
          "name": "stdout",
          "text": [
            "Enter Name of the person: Ekambaram\n",
            "find the details below\n",
            "['pass','Date of Journey','Boarding','Destination','count']\n",
            "['1234', '12-12-1098', 'Kashmir', 'Kanyakumari', '1']\n"
          ]
        }
      ]
    },
    {
      "cell_type": "code",
      "source": [
        ""
      ],
      "metadata": {
        "id": "KHcdo7-DeeqI"
      },
      "execution_count": null,
      "outputs": []
    }
  ]
}