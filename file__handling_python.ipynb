{
  "nbformat": 4,
  "nbformat_minor": 0,
  "metadata": {
    "colab": {
      "name": "file _handling_python.ipynb",
      "provenance": [],
      "collapsed_sections": [],
      "authorship_tag": "ABX9TyOPJDjnS5Z7pu9YzkPL1b+H"
    },
    "kernelspec": {
      "name": "python3",
      "display_name": "Python 3"
    },
    "language_info": {
      "name": "python"
    }
  },
  "cells": [
    {
      "cell_type": "code",
      "source": [
        "import ast\n",
        "\n",
        "dictionary = dict()\n",
        "\n",
        "\n",
        "def register():\n",
        "  mailok = False\n",
        "  while(mailok==False):\n",
        "    mail = str(input(\"Enter mail ID: \"))\n",
        "    char = list(mail)\n",
        "    if '@' in char:\n",
        "      if '.' in char:\n",
        "        at = char.index('@')\n",
        "        dot = char.index('.')\n",
        "        if at != dot-1:\n",
        "          if char[0].isalpha():\n",
        "            mailok = True\n",
        "            print(\"Mail ID conditions satisfied. Please enter password\")\n",
        "            break\n",
        "          else:\n",
        "            print(\"Mail ID should not start with numbers or special characters\")\n",
        "            \n",
        "        else:\n",
        "          print(\"@ should not be followed immediately with .\")\n",
        "          \n",
        "      else:\n",
        "        print(\"Mail ID should include .\")\n",
        "        \n",
        "    else:\n",
        "      print(\"Mail ID should include @\")\n",
        "      \n",
        "\n",
        "  if mailok == True:\n",
        "    password = str(input(\"Enter password: \"))\n",
        "    pas = list(password)\n",
        "    if len(pas)>5 and len(pas)<16:\n",
        "      a,b,c,d,e,f =False,False,False,False,False,False\n",
        "      for i in pas:\n",
        "        if i.isalnum():\n",
        "          a=True\n",
        "        if i.isalpha():\n",
        "          b=True\n",
        "        if i.isdigit():\n",
        "          c=True\n",
        "        if i.islower():\n",
        "          d=True\n",
        "        if i.isupper():\n",
        "          e=True\n",
        "        if not i.isalnum():\n",
        "          f = True\n",
        "\n",
        "      if a and b and c and d and e and f == True:\n",
        "        # credential[mail] = password\n",
        "        file = open('userpass.txt', 'w+')\n",
        "        dictionary.update({mail:password})\n",
        "        file.write(str(dictionary))\n",
        "        file.close\n",
        "        out = print('mail and pass is saved')\n",
        "      else:\n",
        "        out = print('not good')\n",
        "\n",
        "\n",
        "\n",
        "def login():\n",
        "  with open('userpass.txt') as f:\n",
        "\t  data = f.read()\n",
        "  d = ast.literal_eval(data)\n",
        "  mail = input(\"Enter mail ID: \")\n",
        "  password = input(\"Enter password: \")\n",
        "  for i in d:\n",
        "    if mail == i:\n",
        "      if d[mail] == password:\n",
        "        print(\"Login success\")\n",
        "        break\n",
        "      else:\n",
        "        print(\"password incorrect..press 3 for forget password\")\n",
        "        break\n",
        "    else:\n",
        "      print(\"No username matched... please register by pressing 1\")\n",
        "      break\n",
        "  choose = int(input())\n",
        "  if choose == 3:\n",
        "    print(d[mail])\n",
        "  if choose == 1:\n",
        "    register()\n",
        "\n"
      ],
      "metadata": {
        "id": "4Ydu6gDSx1ZU"
      },
      "execution_count": null,
      "outputs": []
    },
    {
      "cell_type": "code",
      "source": [
        "print(\"If you're new user, please register. else Login, using your credentials\")\n",
        "choose = int(input(\"Enter 1 to register |or| Enter 0 for Login: \"))\n",
        "if choose == 1:\n",
        "  register()\n",
        "elif choose == 0:\n",
        "  login()\n",
        "else:\n",
        "  print(\"Invalid input\")"
      ],
      "metadata": {
        "colab": {
          "base_uri": "https://localhost:8080/"
        },
        "id": "VsQP5SYG9UXI",
        "outputId": "1968e668-5f4d-4c33-b409-0c7d306d4957"
      },
      "execution_count": null,
      "outputs": [
        {
          "output_type": "stream",
          "name": "stdout",
          "text": [
            "If you're new user, please register. else Login, using your credentials\n",
            "Enter 1 to register |or| Enter 0 for Login: 0\n",
            "Enter mail ID: anu@app.com\n",
            "Enter password: nsi\n",
            "password incorrect..press 3 for forget password\n",
            "3\n",
            "ty@TY345\n"
          ]
        }
      ]
    },
    {
      "cell_type": "code",
      "source": [
        ""
      ],
      "metadata": {
        "id": "g2P8h3C_9RJx"
      },
      "execution_count": null,
      "outputs": []
    }
  ]
}